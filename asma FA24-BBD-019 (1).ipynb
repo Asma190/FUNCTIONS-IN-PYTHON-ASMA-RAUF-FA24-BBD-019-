{
 "cells": [
  {
   "cell_type": "code",
   "execution_count": 8,
   "id": "775d2053",
   "metadata": {},
   "outputs": [
    {
     "name": "stdout",
     "output_type": "stream",
     "text": [
      "HELLO,Asma!the time is 12:28.Hope you have a great day.\n"
     ]
    }
   ],
   "source": [
    "#ASMA RAUF(FA24-BBD-019)\n",
    "#QUESTION1\n",
    "def greet_with_time(name,time):\n",
    "    print(f\"HELLO,{name}!the time is {time}.Hope you have a great day.\")\n",
    "greet_with_time(\"Asma\",\"12:28\")    \n",
    "    \n",
    "    \n"
   ]
  },
  {
   "cell_type": "code",
   "execution_count": 34,
   "id": "104e1b98",
   "metadata": {},
   "outputs": [
    {
     "name": "stdout",
     "output_type": "stream",
     "text": [
      "The average is 92.0.\n"
     ]
    }
   ],
   "source": [
    "#question 2\n",
    "def calculate_average(num1,num2,num3):\n",
    "    average=(num1+num2+num3)/3\n",
    "    return average\n",
    "result=calculate_average(120,100,56)\n",
    "print(f\"The average is {result}.\")"
   ]
  },
  {
   "cell_type": "code",
   "execution_count": 35,
   "id": "6cb31c41",
   "metadata": {},
   "outputs": [
    {
     "name": "stdout",
     "output_type": "stream",
     "text": [
      "The price after discount is: Rs 180.00\n"
     ]
    }
   ],
   "source": [
    "#QUESTION3\n",
    "def calculate_discount(price, discount_percentage=10):\n",
    "    discount_amount = (discount_percentage / 100) * price  # Corrected variable name\n",
    "    discounted_price = price - discount_amount  # Corrected spelling of 'discounted_amount'\n",
    "    return discounted_price\n",
    "\n",
    "original_price = 200\n",
    "discounted_price = calculate_discount(original_price)  # Corrected function name\n",
    "print(f\"The price after discount is: Rs {discounted_price:.2f}\")"
   ]
  },
  {
   "cell_type": "code",
   "execution_count": 24,
   "id": "44d299bd",
   "metadata": {},
   "outputs": [
    {
     "name": "stdout",
     "output_type": "stream",
     "text": [
      "info :asma,18,lahore\n"
     ]
    }
   ],
   "source": [
    "#question4\n",
    "def print_info(*, name,age,city):\n",
    "    print(f\"info :{name},{age},{city}\")\n",
    "print_info(name=\"asma\",age=\"18\",city=\"lahore\")"
   ]
  },
  {
   "cell_type": "code",
   "execution_count": 32,
   "id": "259073f3",
   "metadata": {},
   "outputs": [
    {
     "name": "stdout",
     "output_type": "stream",
     "text": [
      "None\n",
      "None\n"
     ]
    }
   ],
   "source": [
    "#question5\n",
    "def find_max(*arguments):\n",
    "    if not arguments:\n",
    "        raise valueError(\"at least one argument is required\")  \n",
    "        return max(arguments)\n",
    "print(find_max(1,2,3))\n",
    "print(find_max(-3,-2,-1))"
   ]
  },
  {
   "cell_type": "code",
   "execution_count": 42,
   "id": "6e4a914f",
   "metadata": {},
   "outputs": [
    {
     "name": "stdout",
     "output_type": "stream",
     "text": [
      "40320\n"
     ]
    }
   ],
   "source": [
    "#QUESTION 6\n",
    "def factorial (n):\n",
    "    if n==0 or n==1:\n",
    "        return 1 \n",
    "    else:\n",
    "        return n * factorial (n-1)\n",
    "print(factorial(8))"
   ]
  },
  {
   "cell_type": "code",
   "execution_count": 47,
   "id": "45f31ad2",
   "metadata": {},
   "outputs": [
    {
     "name": "stdout",
     "output_type": "stream",
     "text": [
      "[1, 1, 2, 6, 24]\n"
     ]
    }
   ],
   "source": [
    "#question7\n",
    "def apply_function(function,nums):\n",
    "    return [function(num)for num in nums]\n",
    "def factorial (x):\n",
    "    if x == 1 or x ==0:\n",
    "        return 1\n",
    "    else:\n",
    "        return x * factorial (x-1)\n",
    "result = apply_function(factorial,[0,1,2,3,4])\n",
    "print (result)"
   ]
  },
  {
   "cell_type": "code",
   "execution_count": 48,
   "id": "d1aa9ec5",
   "metadata": {},
   "outputs": [
    {
     "name": "stdout",
     "output_type": "stream",
     "text": [
      "2209\n"
     ]
    }
   ],
   "source": [
    "#question8\n",
    "square=lambda num:num**2\n",
    "print(square(47))"
   ]
  },
  {
   "cell_type": "code",
   "execution_count": 49,
   "id": "3c648fbd",
   "metadata": {},
   "outputs": [
    {
     "name": "stdout",
     "output_type": "stream",
     "text": [
      "[1, 1, 2, 6, 24]\n"
     ]
    }
   ],
   "source": [
    "#question 9 \n",
    "def apply_operation(function,nums):\n",
    "    return [function(num)for num in nums]\n",
    "def factorial (x):\n",
    "    if x == 1 or x ==0:\n",
    "        return 1\n",
    "    else:\n",
    "        return x * factorial (x-1)\n",
    "result = apply_operation(factorial,[0,1,2,3,4])\n",
    "print (result)"
   ]
  },
  {
   "cell_type": "code",
   "execution_count": 53,
   "id": "40da5090",
   "metadata": {},
   "outputs": [
    {
     "name": "stdout",
     "output_type": "stream",
     "text": [
      "example_function took 2.0014 seconds\n"
     ]
    }
   ],
   "source": [
    "#question 10\n",
    "import time\n",
    "def measure_execution_time(func):\n",
    "    def wrapper(*args, **kwargs):\n",
    "        start_time = time.time()\n",
    "        result = func(*args, **kwargs)\n",
    "        print(f\"{func.__name__} took {time.time() - start_time:.4f} seconds\")\n",
    "        return result\n",
    "    return wrapper\n",
    "\n",
    "\n",
    "@measure_execution_time\n",
    "def example_function():\n",
    "    time.sleep(2)\n",
    "\n",
    "example_function()\n"
   ]
  }
 ],
 "metadata": {
  "kernelspec": {
   "display_name": "Python 3 (ipykernel)",
   "language": "python",
   "name": "python3"
  },
  "language_info": {
   "codemirror_mode": {
    "name": "ipython",
    "version": 3
   },
   "file_extension": ".py",
   "mimetype": "text/x-python",
   "name": "python",
   "nbconvert_exporter": "python",
   "pygments_lexer": "ipython3",
   "version": "3.11.5"
  }
 },
 "nbformat": 4,
 "nbformat_minor": 5
}
